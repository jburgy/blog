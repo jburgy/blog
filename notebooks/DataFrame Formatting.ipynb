{
 "cells": [
  {
   "cell_type": "markdown",
   "metadata": {
    "colab_type": "text",
    "id": "view-in-github"
   },
   "source": [
    "[![Open In Colab](https://colab.research.google.com/assets/colab-badge.svg)](https://colab.research.google.com/github/jburgy/blog/blob/master/notebooks/DataFrame%20Formatting.ipynb)"
   ]
  },
  {
   "cell_type": "code",
   "execution_count": null,
   "metadata": {
    "colab": {},
    "colab_type": "code",
    "id": "jzK3uSDPKVv2"
   },
   "outputs": [],
   "source": [
    "from colorsys import rgb_to_hls\n",
    "from matplotlib import cm, colors\n",
    "import numpy as np\n",
    "import pandas as pd\n",
    "\n",
    "cm.register_cmap(\n",
    "    name=\"RdWhGn\",\n",
    "    cmap=colors.LinearSegmentedColormap.from_list(\n",
    "        \"RdWhGn\",\n",
    "        [\"#d65f5f\", \"#ffffff\", \"#5fba7d\"],\n",
    "    ))\n",
    "\n",
    "\n",
    "def centered_background_gradient(\n",
    "    v,\n",
    "    cmap=\"PuBu\",\n",
    "    low=0,\n",
    "    high=0,\n",
    "    text_color_threshold=0.408,\n",
    "    vmin=None,\n",
    "    vmax=None,\n",
    "):\n",
    "    colors = cm.get_cmap(cmap)([0, 0.5, 1])\n",
    "    nh, nl, ns = rgb_to_hls(*colors[0, :3])\n",
    "    ph, pl, ps = rgb_to_hls(*colors[2, :3])\n",
    "    smin = v.min() if vmin is None else vmin\n",
    "    smax = v.max() if vmax is None else vmax\n",
    "    bg = pd.DataFrame(dict(\n",
    "        h=np.where(v < 0, nh, ph) * 360,\n",
    "        s=np.where(v < 0, ns, ps),\n",
    "        l=np.where(v < 0, (nl - 1) * v / smin + 1, (pl - 1) * v / smax + 1),\n",
    "    ), index=v.index)\n",
    "    return [\n",
    "        f\"background-color: hsl({r.h:.2f}, {r.s:.2%}, {r.l:.2%});\"\n",
    "        for r in bg.itertuples()\n",
    "    ]"
   ]
  },
  {
   "cell_type": "code",
   "execution_count": null,
   "metadata": {
    "colab": {},
    "colab_type": "code",
    "id": "LhG-Ydv5uU7S"
   },
   "outputs": [],
   "source": [
    "pd.DataFrame(np.transpose([\n",
    "    [0.330, 4.87, 5.97, 0.073, 0.642, 1898, 568, 86.8, 102, 0.0146],\n",
    "    [4879, 12104, 12756, 3475, 6792, 142984, 120536, 51118, 49528, 2370],\n",
    "    [5427, 5243, 5514, 3340, 3933, 1326, 687, 1271, 1638, 2095],\n",
    "    [3.7, 8.9, 9.8, 1.6, 3.7, 23.1, 9.0, 8.7, 11.0, 0.7],\n",
    "    [4222.6, 2802.0, 24.0, 708.7, 24.7, 9.9, 10.7, 17.2, 16.1, 153.3],\n",
    "    [57.9, 108.2, 149.6, 0.384, 227.9, 778.6, 1433.5, 2872.5, 4495.1, 5906.4],\n",
    "    [167, 464, 15, -20, -65, -110, -140, -195, -200, -225],\n",
    "    [0, 0, 1, 0, 2, 79, 82, 27, 14, 5],\n",
    "]), index=pd.MultiIndex.from_tuples([\n",
    "    (\"Terrestial\", \"Mercury\"),\n",
    "    (\"Terrestial\", \"Venus\"),\n",
    "    (\"Terrestial\", \"Earth\"),\n",
    "    (\"Terrestial\", \"Moon\"),\n",
    "    (\"Terrestial\", \"Mars\"),\n",
    "    (\"Jovian\", \"Jupiter\"),\n",
    "    (\"Jovian\", \"Saturn\"),\n",
    "    (\"Jovian\", \"Uranus\"),\n",
    "    (\"Jovian\", \"Neptune\"),\n",
    "    (\"Dwarf\", \"Pluto\"),\n",
    "], names=[\"Type\", \"Name\"]), columns=[\n",
    "    \"Mass (10<sup>24</sup>kg)\",\n",
    "    \"Diameter (km)\",\n",
    "    \"Density (kg/m<sup>3</sup>)\",\n",
    "    \"Gravity (m/s<sup>2</sup>)\",\n",
    "    \"Length of day (hours)\",\n",
    "    \"Distance from Sun (10<sup>6</sup>km)\",\n",
    "    \"Mean temperature (°C)\",\n",
    "    \"Number of moons\",\n",
    "]).style.format(\"{:0,.0f}\").apply(centered_background_gradient, cmap=\"RdWhGn\")"
   ]
  },
  {
   "cell_type": "code",
   "execution_count": null,
   "metadata": {
    "colab": {},
    "colab_type": "code",
    "id": "CIPkPz265p-1"
   },
   "outputs": [],
   "source": []
  }
 ],
 "metadata": {
  "colab": {
   "authorship_tag": "ABX9TyMol6P55oB4W+N7e2IEBZAq",
   "collapsed_sections": [],
   "include_colab_link": true,
   "name": "conditional formatting.ipynb",
   "provenance": []
  },
  "kernelspec": {
   "display_name": "Python 3",
   "language": "python",
   "name": "python3"
  },
  "language_info": {
   "codemirror_mode": {
    "name": "ipython",
    "version": 3
   },
   "file_extension": ".py",
   "mimetype": "text/x-python",
   "name": "python",
   "nbconvert_exporter": "python",
   "pygments_lexer": "ipython3",
   "version": "3.8.3"
  }
 },
 "nbformat": 4,
 "nbformat_minor": 1
}
