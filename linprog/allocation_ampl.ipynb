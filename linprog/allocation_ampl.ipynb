{
 "cells": [
  {
   "cell_type": "markdown",
   "id": "1019a370",
   "metadata": {},
   "source": [
    "[![Open In Colab](https://colab.research.google.com/assets/colab-badge.svg)](https://colab.research.google.com/github/jburgy/blog/blob/main/linprog/allocation_ampl.ipynb)"
   ]
  },
  {
   "cell_type": "code",
   "execution_count": null,
   "id": "e60caea1",
   "metadata": {},
   "outputs": [],
   "source": [
    "%pip install amplpy ampl-module-base ampl-module-highs --extra-index-url https://pypi.ampl.com"
   ]
  },
  {
   "cell_type": "code",
   "execution_count": null,
   "id": "b46d5b7c-95c3-43c7-ae84-24537ac579fd",
   "metadata": {},
   "outputs": [],
   "source": [
    "import numpy as np\n",
    "import pandas as pd\n",
    "from amplpy import ampl_notebook\n",
    "from google.colab import userdata\n",
    "\n",
    "ampl = ampl_notebook(license_uuid=userdata.get(\"AMPL_CE_LICENSE\"))"
   ]
  },
  {
   "cell_type": "code",
   "execution_count": null,
   "id": "d3b01119-8c60-4b42-8b23-97c12e04343e",
   "metadata": {},
   "outputs": [],
   "source": [
    "%%ampl_eval\n",
    "set STOCKS;\n",
    "set ACCOUNTS = {1..2};\n",
    "set SECTORS;\n",
    "# see https://groups.google.com/g/ampl/c/ULGck_3EQOM/m/yHvDLokzBQAJ\n",
    "set STOCKS_IN_SECTOR {SECTORS} within STOCKS;\n",
    "\n",
    "param base {ACCOUNTS};\n",
    "param market_value {STOCKS};\n",
    "param sign {s in STOCKS} = if market_value[s] >= 0 then 1 else -1;\n",
    "param volume {STOCKS};\n",
    "\n",
    "var X {s in STOCKS, ACCOUNTS}\n",
    "          >= <<0; 1,0>> market_value[s],<= <<0; 0,1>> market_value[s];\n",
    "var AbsX {STOCKS, ACCOUNTS} >= 0;\n",
    "var GMV >= 0;\n",
    "var Concentration {STOCKS};\n",
    "var SectorMV {SECTORS};\n",
    "var SectorNMV {SECTORS} >= 0;\n",
    "var SectorExcess {SECTORS};\n",
    "\n",
    "subject to Completeness {s in STOCKS}:\n",
    "          sum {a in ACCOUNTS} X[s, a] = market_value[s];\n",
    "\n",
    "subject to AbsXLevel {s in STOCKS, a in ACCOUNTS}:\n",
    "          AbsX[s, a] = sign[s] * X[s, a];\n",
    "\n",
    "subject to GMVLevel:\n",
    "          GMV = sum {s in STOCKS} AbsX[s, 1];\n",
    "\n",
    "subject to ConcentrationLevel {s in STOCKS}:\n",
    "          Concentration[s] = AbsX[s, 1] - 0.05 * GMV;\n",
    "\n",
    "subject to SectorMVLevel {sector in SECTORS}:\n",
    "          SectorMV[sector] = sum {s in STOCKS_IN_SECTOR[sector]} X[s, 1];\n",
    "\n",
    "subject to SectorNMVDomain {sector in SECTORS}:\n",
    "          SectorNMV[sector] >= <<0; -1,1>> SectorMV[sector];\n",
    "\n",
    "subject to SectorExcessLevel {sector in SECTORS}:\n",
    "          SectorExcess[sector] = SectorNMV[sector] - 0.2 * GMV;\n",
    "\n",
    "minimize TotalCost:\n",
    "          sum {s in STOCKS, a in ACCOUNTS} base[a] * AbsX[s, a]\n",
    "          + sum {s in STOCKS} <<volume[s]; 0,0.2>> AbsX[s, 1]\n",
    "          + sum {s in STOCKS} <<0; 0,0.1>> Concentration[s]\n",
    "          + sum {sector in SECTORS} <<0; 0,0.2>> SectorExcess[sector];"
   ]
  },
  {
   "cell_type": "code",
   "execution_count": null,
   "id": "3b3e166b-9859-4249-9005-565d9e87c189",
   "metadata": {},
   "outputs": [],
   "source": [
    "π = pd.read_csv(\n",
    "    \"https://raw.githubusercontent.com/jburgy/jupyter\"\n",
    "    \"/refs/heads/main/content/data/portfolio.csv\",\n",
    "    index_col=0,\n",
    ")\n",
    "# Fill-in blank ticker (ESC GCI LIBERTY INC SR COMMON STOCK)\n",
    "π.rename(index={np.nan: \"DUMMY\"}, inplace=True)\n",
    "π[\"market_value\"] = π[\"Shares\"] * π[\"Price\"]\n",
    "π[\"volume\"] = π[\"Volume\"] * π[\"Price\"]\n",
    "\n",
    "ampl.set_data(π[[\"market_value\", \"volume\"]], set_name=\"STOCKS\")\n",
    "ampl.param[\"base\"] = {1: 0.05, 2: 0.06}\n",
    "\n",
    "stocks_in_sector = π.groupby(\"Sector\").groups\n",
    "ampl.set[\"SECTORS\"] = stocks_in_sector.keys()\n",
    "ampl.set[\"STOCKS_IN_SECTOR\"] = stocks_in_sector\n",
    "\n",
    "ampl.option[\"solver\"] = \"highs\"\n",
    "ampl.option[\"highs_options\"] = {\"outlev\": 1}\n",
    "ampl.solve()\n",
    "assert ampl.solve_result == \"solved\""
   ]
  },
  {
   "cell_type": "code",
   "execution_count": null,
   "id": "4ea14356-ae6c-48d7-9194-decef41eb7a6",
   "metadata": {},
   "outputs": [],
   "source": [
    "X = ampl.get_variable(\"X\").get_values().to_pandas()\n",
    "π.assign(\n",
    "    account_1=X.loc[(π.index, 1), \"X.val\"].to_numpy(),\n",
    "    account_2=X.loc[(π.index, 2), \"X.val\"].to_numpy(),\n",
    ")"
   ]
  }
 ],
 "metadata": {
  "kernelspec": {
   "display_name": "Python 3 (ipykernel)",
   "language": "python",
   "name": "python3"
  },
  "language_info": {
   "codemirror_mode": {
    "name": "ipython",
    "version": 3
   },
   "file_extension": ".py",
   "mimetype": "text/x-python",
   "name": "python",
   "nbconvert_exporter": "python",
   "pygments_lexer": "ipython3",
   "version": "3.14.0rc2"
  }
 },
 "nbformat": 4,
 "nbformat_minor": 5
}
