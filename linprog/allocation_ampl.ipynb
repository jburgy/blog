{
 "cells": [
  {
   "cell_type": "markdown",
   "id": "1019a370",
   "metadata": {},
   "source": [
    "[![Open In Colab](https://colab.research.google.com/assets/colab-badge.svg)](https://colab.research.google.com/github/jburgy/blog/blob/main/linprog/allocation_ampl.ipynb)"
   ]
  },
  {
   "cell_type": "code",
   "execution_count": null,
   "id": "e60caea1",
   "metadata": {},
   "outputs": [],
   "source": [
    "%pip install amplpy ampl-module-base ampl-module-highs --extra-index-url https://pypi.ampl.com"
   ]
  },
  {
   "cell_type": "code",
   "execution_count": null,
   "id": "b46d5b7c-95c3-43c7-ae84-24537ac579fd",
   "metadata": {},
   "outputs": [],
   "source": [
    "import numpy as np\n",
    "import pandas as pd\n",
    "from amplpy import ampl_notebook\n",
    "from google.colab import userdata\n",
    "\n",
    "ampl = ampl_notebook(license_uuid=userdata.get(\"AMPL_CE_LICENSE\"))"
   ]
  },
  {
   "cell_type": "code",
   "execution_count": null,
   "id": "d3b01119-8c60-4b42-8b23-97c12e04343e",
   "metadata": {},
   "outputs": [],
   "source": [
    "%%ampl_eval\n",
    "set stocks;\n",
    "set accounts = {1..2};\n",
    "set sectors;\n",
    "# see https://groups.google.com/g/ampl/c/ULGck_3EQOM/m/yHvDLokzBQAJ\n",
    "set stocks_in_sector {sectors} within stocks;\n",
    "\n",
    "param base_rate {accounts};\n",
    "param market_value {stocks};\n",
    "param sign {stock in stocks} = if market_value[stock] >= 0 then 1 else -1;\n",
    "param volume {stocks};\n",
    "\n",
    "var x {stock in stocks, accounts}\n",
    "          >= min(market_value[stock], 0),<= max(market_value[stock], 0);\n",
    "var gmv >= 0;\n",
    "var sector_mv {sectors};\n",
    "var sector_nmv {sectors} >= 0;\n",
    "\n",
    "subject to complete {stock in stocks}:\n",
    "          sum {account in accounts} x[stock, account] = market_value[stock];\n",
    "\n",
    "subject to gmv_helper:\n",
    "          sum {s in stocks} sign[s] * x[s, 1] = gmv;\n",
    "\n",
    "subject to sector_mv_def {sector in sectors}:\n",
    "          sum {stock in stocks_in_sector[sector]} x[stock, 1] = sector_mv[sector];\n",
    "\n",
    "subject to sector_nmv_pos {sector in sectors}:\n",
    "          sector_mv[sector] <= sector_nmv[sector];\n",
    "\n",
    "subject to sector_nmv_neg {sector in sectors}:\n",
    "          -sector_mv[sector] <= sector_nmv[sector];\n",
    "\n",
    "minimize total_cost:\n",
    "          sum {stock in stocks, account in accounts}\n",
    "          base_rate[account] * sign[stock] * x[stock, account]\n",
    "          + sum {stock in stocks}\n",
    "          0.2 * max(sign[stock] * x[stock, 1] - volume[stock], 0)\n",
    "          + sum {stock in stocks}\n",
    "          0.1 * max(sign[stock] * x[stock, 1] - 0.05 * gmv, 0)\n",
    "          + sum {sector in sectors}\n",
    "          0.2 * max(sector_nmv[sector] - 0.2 * gmv, 0);"
   ]
  },
  {
   "cell_type": "code",
   "execution_count": null,
   "id": "3b3e166b-9859-4249-9005-565d9e87c189",
   "metadata": {},
   "outputs": [],
   "source": [
    "π = pd.read_csv(\n",
    "    \"https://raw.githubusercontent.com/jburgy/jupyter\"\n",
    "    \"/refs/heads/main/content/data/portfolio.csv\",\n",
    "    index_col=0,\n",
    ")\n",
    "# Fill-in blank ticker (ESC GCI LIBERTY INC SR COMMON STOCK)\n",
    "π.rename(index={np.nan: \"DUMMY\"}, inplace=True)\n",
    "π[\"market_value\"] = π[\"Shares\"] * π[\"Price\"]\n",
    "π[\"volume\"] = π[\"Volume\"] * π[\"Price\"]\n",
    "\n",
    "ampl.set_data(π[[\"market_value\", \"volume\"]], \"stocks\")\n",
    "ampl.param[\"base_rate\"] = {1: 0.05, 2: 0.06}\n",
    "\n",
    "stocks_in_sector = π.groupby(\"Sector\").groups\n",
    "ampl.set[\"sectors\"] = stocks_in_sector.keys()\n",
    "ampl.set[\"stocks_in_sector\"] = stocks_in_sector\n",
    "\n",
    "ampl.option[\"solver\"] = \"highs\"\n",
    "ampl.option[\"highs_options\"] = {\"outlev\": 1}\n",
    "ampl.solve()\n",
    "assert ampl.solve_result == \"solved\""
   ]
  },
  {
   "cell_type": "code",
   "execution_count": null,
   "id": "4ea14356-ae6c-48d7-9194-decef41eb7a6",
   "metadata": {},
   "outputs": [],
   "source": [
    "x = ampl.get_variable(\"x\").get_values().to_pandas()\n",
    "π.assign(\n",
    "    account_1=x.loc[(π.index, 1), \"x.val\"].to_numpy(),\n",
    "    account_2=x.loc[(π.index, 2), \"x.val\"].to_numpy(),\n",
    ")"
   ]
  }
 ],
 "metadata": {
  "kernelspec": {
   "display_name": "Python 3 (ipykernel)",
   "language": "python",
   "name": "python3"
  },
  "language_info": {
   "codemirror_mode": {
    "name": "ipython",
    "version": 3
   },
   "file_extension": ".py",
   "mimetype": "text/x-python",
   "name": "python",
   "nbconvert_exporter": "python",
   "pygments_lexer": "ipython3",
   "version": "3.14.0rc2"
  }
 },
 "nbformat": 4,
 "nbformat_minor": 5
}
