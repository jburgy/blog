{
 "cells": [
  {
   "cell_type": "markdown",
   "id": "1019a370",
   "metadata": {},
   "source": [
    "[![Open In Colab](https://colab.research.google.com/assets/colab-badge.svg)](https://colab.research.google.com/github/jburgy/blog/blob/main/linprog/allocation_ampl.ipynb)"
   ]
  },
  {
   "cell_type": "code",
   "execution_count": null,
   "id": "e60caea1",
   "metadata": {},
   "outputs": [],
   "source": [
    "%pip install amplpy ampl-module-base ampl-module-highs --extra-index-url https://pypi.ampl.com"
   ]
  },
  {
   "cell_type": "code",
   "execution_count": null,
   "id": "b46d5b7c-95c3-43c7-ae84-24537ac579fd",
   "metadata": {},
   "outputs": [],
   "source": [
    "import numpy as np\n",
    "import pandas as pd\n",
    "from amplpy import ampl_notebook\n",
    "from google.colab import userdata\n",
    "\n",
    "ampl = ampl_notebook(license_uuid=userdata.get(\"AMPL_CE_LICENSE\"))"
   ]
  },
  {
   "cell_type": "code",
   "execution_count": null,
   "id": "d3b01119-8c60-4b42-8b23-97c12e04343e",
   "metadata": {},
   "outputs": [],
   "source": [
    "%%ampl_eval\n",
    "set STOCKS;\n",
    "set ACCOUNTS = {1..2};\n",
    "set SECTORS;\n",
    "# see https://groups.google.com/g/ampl/c/ULGck_3EQOM/m/yHvDLokzBQAJ\n",
    "set STOCKS_IN_SECTOR {SECTORS} within STOCKS;\n",
    "\n",
    "param base {ACCOUNTS};\n",
    "param market_value {STOCKS};\n",
    "param sign {s in STOCKS} = if market_value[s] >= 0 then 1 else -1;\n",
    "param volume {STOCKS};\n",
    "param conc_size {ACCOUNTS} default 0 >= 0;\n",
    "param conc_break {a in ACCOUNTS, p in 1..conc_size[a]}\n",
    "          >= if p = 1 then 0.0 else conc_break[a, p-1];\n",
    "param conc_rate {a in ACCOUNTS, p in 1..conc_size[a]}\n",
    "          > if p = 1 then 0.0 else conc_rate[a, p-1];\n",
    "param sect_size {ACCOUNTS} default 0 >= 0;\n",
    "param sect_break {a in ACCOUNTS, p in 1..conc_size[a]}\n",
    "          >= if p = 1 then 0.0 else sect_break[a, p-1];\n",
    "param sect_rate {a in ACCOUNTS, p in 1..conc_size[a]}\n",
    "          > if p = 1 then 0.0 else sect_rate[a, p-1];\n",
    "\n",
    "var X {s in STOCKS, ACCOUNTS}\n",
    "          >= <<0; 1,0>> market_value[s],<= <<0; 0,1>> market_value[s];\n",
    "var AbsX {STOCKS, ACCOUNTS} >= 0;\n",
    "var GMV {ACCOUNTS} >= 0;\n",
    "var Concentration {STOCKS, ACCOUNTS};\n",
    "var SectorMV {SECTORS, ACCOUNTS};\n",
    "var SectorNMV {SECTORS, ACCOUNTS} >= 0;\n",
    "var SectorExcess {SECTORS, ACCOUNTS};\n",
    "\n",
    "subject to Completeness {s in STOCKS}:\n",
    "          sum {a in ACCOUNTS} X[s, a] = market_value[s];\n",
    "\n",
    "subject to AbsXLevel {s in STOCKS, a in ACCOUNTS}:\n",
    "          AbsX[s, a] = sign[s] * X[s, a];\n",
    "\n",
    "subject to GMVLevel {a in ACCOUNTS}:\n",
    "          GMV[a] = sum {s in STOCKS} AbsX[s, a];\n",
    "\n",
    "subject to ConcentrationLevel {s in STOCKS, a in ACCOUNTS}:\n",
    "          Concentration[s, a] = AbsX[s, a] - 0.05 * GMV[a];\n",
    "\n",
    "subject to SectorMVLevel {sector in SECTORS, a in ACCOUNTS}:\n",
    "          SectorMV[sector, a] = sum {s in STOCKS_IN_SECTOR[sector]} X[s, a];\n",
    "\n",
    "subject to SectorNMVDomain {sector in SECTORS, a in ACCOUNTS}:\n",
    "          SectorNMV[sector, a] >= <<0; -1,1>> SectorMV[sector, a];\n",
    "\n",
    "subject to SectorExcessLevel {sector in SECTORS, a in ACCOUNTS}:\n",
    "          SectorExcess[sector, a] = SectorNMV[sector, a] - 0.2 * GMV[a];\n",
    "\n",
    "minimize TotalCost:\n",
    "          sum {s in STOCKS, a in ACCOUNTS} base[a] * AbsX[s, a]\n",
    "          + sum {s in STOCKS} <<volume[s]; 0,0.2>> AbsX[s, 1]\n",
    "          + sum {s in STOCKS, a in ACCOUNTS}\n",
    "          <<{p in 1..conc_size[a]} conc_break[a, p];\n",
    "            {p in 0..conc_size[a]} if p = 0 then 0.0 else conc_rate[a, p]>>\n",
    "          Concentration[s, a]\n",
    "          + sum {sector in SECTORS, a in ACCOUNTS}\n",
    "          <<{p in 1..sect_size[a]} sect_break[a, p];\n",
    "            {p in 0..sect_size[a]} if p = 0 then 0.0 else sect_rate[a, p]>>\n",
    "          SectorExcess[sector, a];"
   ]
  },
  {
   "cell_type": "code",
   "execution_count": null,
   "id": "64cc6519",
   "metadata": {},
   "outputs": [],
   "source": [
    "penalties = pd.DataFrame(\n",
    "    [[\"conc\", 1, 1, 0.0, 0.1], [\"sect\", 1, 1, 0.0, 0.1]],\n",
    "    columns=[\"name\", \"account\", \"index\", \"break\", \"rate\"],\n",
    ").set_index([\"name\", \"account\", \"index\"])\n",
    "penalties"
   ]
  },
  {
   "cell_type": "code",
   "execution_count": null,
   "id": "3b3e166b-9859-4249-9005-565d9e87c189",
   "metadata": {},
   "outputs": [],
   "source": [
    "π = pd.read_csv(\n",
    "    \"https://raw.githubusercontent.com/jburgy/jupyter\"\n",
    "    \"/refs/heads/main/content/data/portfolio.csv\",\n",
    "    index_col=0,\n",
    ")\n",
    "# Fill-in blank ticker (ESC GCI LIBERTY INC SR COMMON STOCK)\n",
    "π.rename(index={np.nan: \"DUMMY\"}, inplace=True)\n",
    "π[\"market_value\"] = π[\"Shares\"] * π[\"Price\"]\n",
    "π[\"volume\"] = π[\"Volume\"] * π[\"Price\"]\n",
    "\n",
    "ampl.set_data(π[[\"market_value\", \"volume\"]], set_name=\"STOCKS\")\n",
    "for name, p in penalties.groupby(\"name\", as_index=False):\n",
    "    ampl.param[f\"{name}_size\"] = p[\"break\"].groupby(\"account\").count().to_dict()\n",
    "    ampl.param[f\"{name}_break\"] = p.loc[name, \"break\"].to_dict()\n",
    "    ampl.param[f\"{name}_rate\"] = p.loc[name, \"rate\"].to_dict()\n",
    "\n",
    "stocks_in_sector = π.groupby(\"Sector\").groups\n",
    "ampl.set[\"SECTORS\"] = stocks_in_sector.keys()\n",
    "ampl.set[\"STOCKS_IN_SECTOR\"] = stocks_in_sector\n",
    "\n",
    "ampl.option[\"solver\"] = \"highs\"\n",
    "ampl.option[\"highs_options\"] = {\"outlev\": 1}\n",
    "ampl.solve()\n",
    "assert ampl.solve_result == \"solved\""
   ]
  },
  {
   "cell_type": "code",
   "execution_count": null,
   "id": "4ea14356-ae6c-48d7-9194-decef41eb7a6",
   "metadata": {},
   "outputs": [],
   "source": [
    "X = ampl.get_variable(\"X\").get_values().to_pandas()\n",
    "π.assign(\n",
    "    account_1=X.loc[(π.index, 1), \"X.val\"].to_numpy(),\n",
    "    account_2=X.loc[(π.index, 2), \"X.val\"].to_numpy(),\n",
    ")"
   ]
  }
 ],
 "metadata": {
  "kernelspec": {
   "display_name": "Python 3 (ipykernel)",
   "language": "python",
   "name": "python3"
  },
  "language_info": {
   "codemirror_mode": {
    "name": "ipython",
    "version": 3
   },
   "file_extension": ".py",
   "mimetype": "text/x-python",
   "name": "python",
   "nbconvert_exporter": "python",
   "pygments_lexer": "ipython3",
   "version": "3.14.0rc2"
  }
 },
 "nbformat": 4,
 "nbformat_minor": 5
}
